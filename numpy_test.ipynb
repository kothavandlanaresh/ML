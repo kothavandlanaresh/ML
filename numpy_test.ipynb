{
 "cells": [
  {
   "cell_type": "code",
   "execution_count": 2,
   "metadata": {},
   "outputs": [
    {
     "name": "stdout",
     "output_type": "stream",
     "text": [
      "Note: you may need to restart the kernel to use updated packages.\n"
     ]
    }
   ],
   "source": [
    "%pip install numpy --quiet\n"
   ]
  },
  {
   "cell_type": "markdown",
   "metadata": {},
   "source": []
  },
  {
   "cell_type": "code",
   "execution_count": 3,
   "metadata": {},
   "outputs": [],
   "source": [
    "import numpy as np"
   ]
  },
  {
   "cell_type": "code",
   "execution_count": 5,
   "metadata": {},
   "outputs": [
    {
     "name": "stdout",
     "output_type": "stream",
     "text": [
      "[1 2 3 4 5]\n"
     ]
    }
   ],
   "source": [
    "arr=np.array([1,2,3,4,5])\n",
    "\n",
    "print(arr)"
   ]
  },
  {
   "cell_type": "code",
   "execution_count": 7,
   "metadata": {},
   "outputs": [
    {
     "name": "stdout",
     "output_type": "stream",
     "text": [
      "<class 'numpy.ndarray'>\n"
     ]
    }
   ],
   "source": [
    "print (type(arr))\n"
   ]
  },
  {
   "cell_type": "code",
   "execution_count": 9,
   "metadata": {},
   "outputs": [
    {
     "name": "stdout",
     "output_type": "stream",
     "text": [
      "35\n",
      "<class 'numpy.ndarray'>\n"
     ]
    }
   ],
   "source": [
    "arr1=np.array(35)\n",
    "\n",
    "print(arr1)\n",
    "\n",
    "print (type(arr1))"
   ]
  },
  {
   "cell_type": "code",
   "execution_count": 13,
   "metadata": {},
   "outputs": [
    {
     "name": "stdout",
     "output_type": "stream",
     "text": [
      "[[ 1  2  3]\n",
      " [ 4  5  6]\n",
      " [10  8  9]]\n",
      "<class 'numpy.ndarray'>\n"
     ]
    }
   ],
   "source": [
    "arr2=np.array([[1,2,3],[4,5,6],\n",
    "              [10,8,9]])\n",
    "\n",
    "print (arr2)\n",
    "\n",
    "print(type(arr2))"
   ]
  },
  {
   "cell_type": "code",
   "execution_count": 16,
   "metadata": {},
   "outputs": [
    {
     "name": "stdout",
     "output_type": "stream",
     "text": [
      "[[[ 1  2  3]\n",
      "  [ 4  5  6]\n",
      "  [10  8  9]]\n",
      "\n",
      " [[ 1  2  3]\n",
      "  [ 4  5  6]\n",
      "  [10  8  9]]\n",
      "\n",
      " [[ 1  2  3]\n",
      "  [ 4  5  6]\n",
      "  [10  8  9]]]\n",
      "<class 'numpy.ndarray'>\n"
     ]
    }
   ],
   "source": [
    "arr3=np.array([[[1,2,3],[4,5,6],[10,8,9]],[[1,2,3],[4,5,6],[10,8,9]],[[1,2,3],[4,5,6],[10,8,9]]])\n",
    "\n",
    "print (arr3)\n",
    "\n",
    "print(type(arr3))"
   ]
  },
  {
   "cell_type": "code",
   "execution_count": 29,
   "metadata": {},
   "outputs": [
    {
     "name": "stdout",
     "output_type": "stream",
     "text": [
      "35 [[ 4  5  6]\n",
      " [10  8  9]]\n"
     ]
    }
   ],
   "source": [
    "print(arr1, arr2[1:,:])"
   ]
  },
  {
   "cell_type": "code",
   "execution_count": 30,
   "metadata": {},
   "outputs": [
    {
     "name": "stdout",
     "output_type": "stream",
     "text": [
      "[ 4 10 18]\n"
     ]
    }
   ],
   "source": [
    "print(arr2[0,:]*arr2[1,:])"
   ]
  },
  {
   "cell_type": "code",
   "execution_count": 34,
   "metadata": {},
   "outputs": [
    {
     "name": "stdout",
     "output_type": "stream",
     "text": [
      "[[ 39  36  42]\n",
      " [ 84  81  96]\n",
      " [132 132 159]]\n"
     ]
    }
   ],
   "source": [
    "print (arr3[0,:,:]@arr3[1,:,:])"
   ]
  },
  {
   "cell_type": "code",
   "execution_count": 42,
   "metadata": {},
   "outputs": [
    {
     "name": "stdout",
     "output_type": "stream",
     "text": [
      "[10  8  9]\n"
     ]
    }
   ],
   "source": [
    "print(arr3[0,-1])"
   ]
  },
  {
   "cell_type": "code",
   "execution_count": 43,
   "metadata": {},
   "outputs": [
    {
     "name": "stdout",
     "output_type": "stream",
     "text": [
      "0\n",
      "2\n",
      "3\n",
      "1\n"
     ]
    }
   ],
   "source": [
    "print(arr1.ndim)\n",
    "print(arr2.ndim)\n",
    "print(arr3.ndim)\n",
    "print(arr.ndim)"
   ]
  },
  {
   "cell_type": "code",
   "execution_count": 53,
   "metadata": {},
   "outputs": [
    {
     "name": "stdout",
     "output_type": "stream",
     "text": [
      "[ 1  2  3  4  5  6  7  8  9 10 11 12 13 14]\n"
     ]
    }
   ],
   "source": [
    "arr4 = np.array([1,2,3,4,5,6,7,8,9,10,11,12,13,14])\n",
    "\n",
    "print(arr4)"
   ]
  },
  {
   "cell_type": "code",
   "execution_count": 54,
   "metadata": {},
   "outputs": [
    {
     "name": "stdout",
     "output_type": "stream",
     "text": [
      "[3 5 7 9]\n"
     ]
    }
   ],
   "source": [
    "print(arr4[2:10:2])"
   ]
  },
  {
   "cell_type": "code",
   "execution_count": 55,
   "metadata": {},
   "outputs": [
    {
     "name": "stdout",
     "output_type": "stream",
     "text": [
      "[ 6  8 10 12]\n"
     ]
    }
   ],
   "source": [
    "print(arr4[-9:-1:2])"
   ]
  },
  {
   "cell_type": "code",
   "execution_count": 56,
   "metadata": {},
   "outputs": [
    {
     "name": "stdout",
     "output_type": "stream",
     "text": [
      "[11 13]\n"
     ]
    }
   ],
   "source": [
    "print(arr4[-4::2])\n"
   ]
  },
  {
   "cell_type": "code",
   "execution_count": 57,
   "metadata": {},
   "outputs": [
    {
     "name": "stdout",
     "output_type": "stream",
     "text": [
      "int64\n"
     ]
    }
   ],
   "source": [
    "print(arr4.dtype)\n"
   ]
  },
  {
   "cell_type": "code",
   "execution_count": 58,
   "metadata": {},
   "outputs": [
    {
     "name": "stdout",
     "output_type": "stream",
     "text": [
      "<class 'numpy.ndarray'>\n"
     ]
    }
   ],
   "source": [
    "print(type(arr4))"
   ]
  },
  {
   "cell_type": "code",
   "execution_count": 60,
   "metadata": {},
   "outputs": [
    {
     "name": "stdout",
     "output_type": "stream",
     "text": [
      "[[['1' '2' '3']\n",
      "  ['4' '5' '6']\n",
      "  ['10' '8' '9']]\n",
      "\n",
      " [['1' '2' '3']\n",
      "  ['4' '5' '6']\n",
      "  ['10' '8' '9']]\n",
      "\n",
      " [['1' '2' '3']\n",
      "  ['4' '5' '6']\n",
      "  ['10' '8' '9']]]\n"
     ]
    }
   ],
   "source": [
    "arr5=np.array([[[1,2,3],[4,5,6],[10,8,9]],[[1,2,3],[4,5,6],[10,8,9]],[[1,2,3],[4,5,6],[10,8,9]]],dtype='U6')\n",
    "print(arr5)"
   ]
  },
  {
   "cell_type": "code",
   "execution_count": 61,
   "metadata": {},
   "outputs": [
    {
     "name": "stdout",
     "output_type": "stream",
     "text": [
      "[b'1' b'2' b'3' b'4']\n"
     ]
    }
   ],
   "source": [
    "arr6=np.array([1,2,3,4],dtype='S')\n",
    "\n",
    "print(arr6)"
   ]
  },
  {
   "cell_type": "code",
   "execution_count": 63,
   "metadata": {},
   "outputs": [
    {
     "name": "stdout",
     "output_type": "stream",
     "text": [
      "|S1\n",
      "[1. 2. 3. 4.]\n",
      "float32\n"
     ]
    }
   ],
   "source": [
    "new = arr6.astype('f')\n",
    "\n",
    "print (arr6.dtype)\n",
    "\n",
    "print(new)\n",
    "print (new.dtype)"
   ]
  },
  {
   "cell_type": "code",
   "execution_count": 65,
   "metadata": {},
   "outputs": [
    {
     "name": "stdout",
     "output_type": "stream",
     "text": [
      "(4,)\n",
      "(3, 3, 3)\n"
     ]
    }
   ],
   "source": [
    "print(arr6.shape)\n",
    "\n",
    "print (arr3.shape)"
   ]
  },
  {
   "cell_type": "code",
   "execution_count": 72,
   "metadata": {},
   "outputs": [
    {
     "name": "stdout",
     "output_type": "stream",
     "text": [
      "0 = [1 2 3 4 5]\n",
      "1 = 35\n",
      "2 = [[ 1  2  3]\n",
      " [ 4  5  6]\n",
      " [10  8  9]]\n",
      "3 = [[[ 1  2  3]\n",
      "  [ 4  5  6]\n",
      "  [10  8  9]]\n",
      "\n",
      " [[ 1  2  3]\n",
      "  [ 4  5  6]\n",
      "  [10  8  9]]\n",
      "\n",
      " [[ 1  2  3]\n",
      "  [ 4  5  6]\n",
      "  [10  8  9]]]\n",
      "4 = [ 1  2  3  4  5  6  7  8  9 10 11 12 13 14]\n",
      "5 = [[['1' '2' '3']\n",
      "  ['4' '5' '6']\n",
      "  ['10' '8' '9']]\n",
      "\n",
      " [['1' '2' '3']\n",
      "  ['4' '5' '6']\n",
      "  ['10' '8' '9']]\n",
      "\n",
      " [['1' '2' '3']\n",
      "  ['4' '5' '6']\n",
      "  ['10' '8' '9']]]\n"
     ]
    }
   ],
   "source": [
    "\n",
    "print(f\"0 = {arr}\")\n",
    "print(f\"1 = {arr1}\")\n",
    "print(f\"2 = {arr2}\")\n",
    "print(f\"3 = {arr3}\")\n",
    "print(f\"4 = {arr4}\")"
   ]
  },
  {
   "cell_type": "code",
   "execution_count": 74,
   "metadata": {},
   "outputs": [
    {
     "name": "stdout",
     "output_type": "stream",
     "text": [
      "[[ 1  2  3  4  5  6  7]\n",
      " [ 8  9 10 11 12 13 14]]\n"
     ]
    }
   ],
   "source": [
    "arr7= arr4.reshape(2,7)\n",
    "\n",
    "print (arr7)"
   ]
  },
  {
   "cell_type": "code",
   "execution_count": 86,
   "metadata": {},
   "outputs": [
    {
     "name": "stdout",
     "output_type": "stream",
     "text": [
      "12\n",
      "None\n",
      "[ 1  2  3  4  5  6  7  8  9 10 11 12  0  0  0  0  0  0  0  0]\n",
      "20\n"
     ]
    }
   ],
   "source": [
    "new_arr=np.delete(arr4,[12,13])\n",
    "\n",
    "print(new_arr.size)\n",
    "\n",
    "print(new_arr.resize(20))\n",
    "\n",
    "print(new_arr)\n",
    "print(new_arr.size)\n"
   ]
  },
  {
   "cell_type": "code",
   "execution_count": 110,
   "metadata": {},
   "outputs": [
    {
     "name": "stdout",
     "output_type": "stream",
     "text": [
      "[ 1  2  3  4  5  6  7  8  9 10 11 12 13 14]\n",
      "[ 1  2  3  4  5  6  7  8  9 10 11 12 13 14  1  2]\n",
      "[[[ 1  2]\n",
      "  [ 3  4]]\n",
      "\n",
      " [[ 5  6]\n",
      "  [ 7  8]]\n",
      "\n",
      " [[ 9 10]\n",
      "  [11 12]]\n",
      "\n",
      " [[13 14]\n",
      "  [ 1  2]]]\n"
     ]
    }
   ],
   "source": [
    "print(arr4)\n",
    "\n",
    "new_arr1=np.resize(arr4,16)\n",
    "\n",
    "print(new_arr1)\n",
    "\n",
    "print(new_arr1.reshape(4,2,-1))\n"
   ]
  },
  {
   "cell_type": "code",
   "execution_count": 111,
   "metadata": {},
   "outputs": [
    {
     "name": "stdout",
     "output_type": "stream",
     "text": [
      "[[[ 1  5  9 13]\n",
      "  [ 3  7 11  1]]\n",
      "\n",
      " [[ 2  6 10 14]\n",
      "  [ 4  8 12  2]]]\n"
     ]
    }
   ],
   "source": [
    "print(np.transpose(new_arr1.reshape(4,2,-1)))"
   ]
  },
  {
   "cell_type": "code",
   "execution_count": 112,
   "metadata": {},
   "outputs": [
    {
     "name": "stdout",
     "output_type": "stream",
     "text": [
      "[ 1  2  3  4  5  6  7  8  9 10 11 12 13 14]\n"
     ]
    }
   ],
   "source": [
    "print(arr4)"
   ]
  },
  {
   "cell_type": "code",
   "execution_count": 113,
   "metadata": {},
   "outputs": [
    {
     "name": "stdout",
     "output_type": "stream",
     "text": [
      "[ 5  3  7  4  2  6  7  4  3  5  7  8 97  8 98  7  6  5 55  4  4  3]\n"
     ]
    }
   ],
   "source": [
    "arr7=np.array([5,3,7,4,2,6,7,4,3,5,7,8,97,8,98,7,6,5,55,4,4,3])\n",
    "\n",
    "print(arr7)"
   ]
  },
  {
   "cell_type": "code",
   "execution_count": 116,
   "metadata": {},
   "outputs": [
    {
     "name": "stdout",
     "output_type": "stream",
     "text": [
      "None\n"
     ]
    }
   ],
   "source": [
    "print(arr7.sort())"
   ]
  },
  {
   "cell_type": "code",
   "execution_count": 115,
   "metadata": {},
   "outputs": [
    {
     "name": "stdout",
     "output_type": "stream",
     "text": [
      "[ 2  3  3  3  4  4  4  4  5  5  5  6  6  7  7  7  7  8  8 55 97 98]\n"
     ]
    }
   ],
   "source": [
    "print(np.sort(arr7))"
   ]
  },
  {
   "cell_type": "code",
   "execution_count": 117,
   "metadata": {},
   "outputs": [
    {
     "name": "stdout",
     "output_type": "stream",
     "text": [
      "[[['1' '2' '3']\n",
      "  ['4' '5' '6']\n",
      "  ['10' '8' '9']]\n",
      "\n",
      " [['1' '2' '3']\n",
      "  ['4' '5' '6']\n",
      "  ['10' '8' '9']]\n",
      "\n",
      " [['1' '2' '3']\n",
      "  ['4' '5' '6']\n",
      "  ['10' '8' '9']]]\n"
     ]
    }
   ],
   "source": [
    "print(arr5)"
   ]
  },
  {
   "cell_type": "code",
   "execution_count": 122,
   "metadata": {},
   "outputs": [
    {
     "name": "stdout",
     "output_type": "stream",
     "text": [
      "iteration : \n",
      "[['1' '2' '3']\n",
      " ['4' '5' '6']\n",
      " ['10' '8' '9']]\n",
      "\n",
      "iteration : \n",
      "[['1' '2' '3']\n",
      " ['4' '5' '6']\n",
      " ['10' '8' '9']]\n",
      "\n",
      "iteration : \n",
      "[['1' '2' '3']\n",
      " ['4' '5' '6']\n",
      " ['10' '8' '9']]\n",
      "\n"
     ]
    }
   ],
   "source": [
    "for x in arr5:\n",
    "    print('iteration : ')\n",
    "    print(x)\n",
    "    print()"
   ]
  },
  {
   "cell_type": "code",
   "execution_count": 123,
   "metadata": {},
   "outputs": [
    {
     "name": "stdout",
     "output_type": "stream",
     "text": [
      "iteration : \n",
      "1\n",
      "\n",
      "iteration : \n",
      "2\n",
      "\n",
      "iteration : \n",
      "3\n",
      "\n",
      "iteration : \n",
      "4\n",
      "\n",
      "iteration : \n",
      "5\n",
      "\n",
      "iteration : \n",
      "6\n",
      "\n",
      "iteration : \n",
      "10\n",
      "\n",
      "iteration : \n",
      "8\n",
      "\n",
      "iteration : \n",
      "9\n",
      "\n",
      "iteration : \n",
      "1\n",
      "\n",
      "iteration : \n",
      "2\n",
      "\n",
      "iteration : \n",
      "3\n",
      "\n",
      "iteration : \n",
      "4\n",
      "\n",
      "iteration : \n",
      "5\n",
      "\n",
      "iteration : \n",
      "6\n",
      "\n",
      "iteration : \n",
      "10\n",
      "\n",
      "iteration : \n",
      "8\n",
      "\n",
      "iteration : \n",
      "9\n",
      "\n",
      "iteration : \n",
      "1\n",
      "\n",
      "iteration : \n",
      "2\n",
      "\n",
      "iteration : \n",
      "3\n",
      "\n",
      "iteration : \n",
      "4\n",
      "\n",
      "iteration : \n",
      "5\n",
      "\n",
      "iteration : \n",
      "6\n",
      "\n",
      "iteration : \n",
      "10\n",
      "\n",
      "iteration : \n",
      "8\n",
      "\n",
      "iteration : \n",
      "9\n",
      "\n"
     ]
    }
   ],
   "source": [
    "for x in np.nditer(arr5):\n",
    "    print('iteration : ')\n",
    "    print(x)\n",
    "    print()"
   ]
  },
  {
   "cell_type": "code",
   "execution_count": 125,
   "metadata": {},
   "outputs": [
    {
     "name": "stdout",
     "output_type": "stream",
     "text": [
      "[  1   3   5   3   2   4   6   7  43  67  89  54  67   8   9  65   4   3\n",
      "  35   6   7  86  54   3  33 445   2   3   4   5   6  67   8   8   2   4\n",
      "   2]\n"
     ]
    }
   ],
   "source": [
    "arr10=np.array([1,3,5,3,2,4,6,7,43,67,89,54,67,8,9,65,4,3,35,6,7,86,54,3,33,445,2,3,4,5,6,67,8,8,2,4,2])\n",
    "\n",
    "print(arr10)"
   ]
  },
  {
   "cell_type": "code",
   "execution_count": 129,
   "metadata": {},
   "outputs": [
    {
     "name": "stdout",
     "output_type": "stream",
     "text": [
      "32.972972972972975\n",
      "73.78877322007456\n",
      "73.78877322007456\n"
     ]
    }
   ],
   "source": [
    "print (arr10.mean())\n",
    "\n",
    "print(arr10.std())\n",
    "print(np.std(arr10))\n"
   ]
  },
  {
   "cell_type": "code",
   "execution_count": 130,
   "metadata": {},
   "outputs": [
    {
     "name": "stdout",
     "output_type": "stream",
     "text": [
      "0\n",
      "2\n",
      "4\n",
      "6\n",
      "8\n"
     ]
    }
   ],
   "source": [
    "for x in range(0,10,2):\n",
    "    print(x)"
   ]
  },
  {
   "cell_type": "code",
   "execution_count": 132,
   "metadata": {},
   "outputs": [
    {
     "name": "stdout",
     "output_type": "stream",
     "text": [
      "0\n",
      "1\n",
      "2\n",
      "3\n",
      "4\n",
      "5\n",
      "6\n",
      "7\n",
      "8\n",
      "9\n"
     ]
    }
   ],
   "source": [
    "for x in range(10):\n",
    "    print(x)"
   ]
  },
  {
   "cell_type": "code",
   "execution_count": 136,
   "metadata": {},
   "outputs": [
    {
     "name": "stdout",
     "output_type": "stream",
     "text": [
      "[[0. 0. 0.]\n",
      " [0. 0. 0.]\n",
      " [0. 0. 0.]]\n"
     ]
    }
   ],
   "source": [
    "arr_zero=np.zeros([3,3])\n",
    "\n",
    "print(arr_zero)"
   ]
  },
  {
   "cell_type": "code",
   "execution_count": 137,
   "metadata": {},
   "outputs": [
    {
     "name": "stdout",
     "output_type": "stream",
     "text": [
      "[[1. 1. 1.]\n",
      " [1. 1. 1.]\n",
      " [1. 1. 1.]]\n"
     ]
    }
   ],
   "source": [
    "arr_one=np.ones((3,3))\n",
    "print(arr_one)"
   ]
  },
  {
   "cell_type": "code",
   "execution_count": 139,
   "metadata": {},
   "outputs": [
    {
     "name": "stdout",
     "output_type": "stream",
     "text": [
      "[[1. 0. 0.]\n",
      " [0. 1. 0.]\n",
      " [0. 0. 1.]]\n"
     ]
    }
   ],
   "source": [
    "arr_i=np.eye((3))\n",
    "\n",
    "print(arr_i)"
   ]
  },
  {
   "cell_type": "code",
   "execution_count": 146,
   "metadata": {},
   "outputs": [
    {
     "name": "stdout",
     "output_type": "stream",
     "text": [
      "[[0.24589837 0.6091679 ]\n",
      " [0.21504568 0.52238266]]\n"
     ]
    }
   ],
   "source": [
    "x=np.random.rand(2,2)\n",
    "print(x)"
   ]
  },
  {
   "cell_type": "code",
   "execution_count": 148,
   "metadata": {},
   "outputs": [
    {
     "name": "stdout",
     "output_type": "stream",
     "text": [
      "None\n",
      "[ 4  6 98  2]\n"
     ]
    }
   ],
   "source": [
    "arr_test=np.array([4,98,6,2])\n",
    "\n",
    "print(np.random.shuffle(arr_test))\n",
    "\n",
    "print(arr_test)"
   ]
  },
  {
   "cell_type": "code",
   "execution_count": 149,
   "metadata": {},
   "outputs": [
    {
     "name": "stdout",
     "output_type": "stream",
     "text": [
      "[ 6  4 98  2]\n"
     ]
    }
   ],
   "source": [
    "print(np.random.permutation(arr_test))"
   ]
  },
  {
   "cell_type": "code",
   "execution_count": 155,
   "metadata": {},
   "outputs": [],
   "source": [
    "import seaborn as sns\n",
    "import matplotlib.pyplot as plt\n"
   ]
  },
  {
   "cell_type": "code",
   "execution_count": 156,
   "metadata": {},
   "outputs": [
    {
     "name": "stdout",
     "output_type": "stream",
     "text": [
      "[[ 0.711456   -1.13561526 -3.78757188]\n",
      " [ 2.45129472  2.68065127  4.94884571]\n",
      " [ 1.56212377  1.74576338 -1.63377006]]\n"
     ]
    }
   ],
   "source": [
    "from numpy import random\n",
    "\n",
    "x= random.normal(1,2,(3,3))\n",
    "print(x)\n"
   ]
  },
  {
   "cell_type": "code",
   "execution_count": 164,
   "metadata": {},
   "outputs": [
    {
     "data": {
      "text/plain": [
       "<seaborn.axisgrid.FacetGrid at 0x127ba8620>"
      ]
     },
     "execution_count": 164,
     "metadata": {},
     "output_type": "execute_result"
    },
    {
     "data": {
      "image/png": "[encoded data removed]",
      "text/plain": [
       "<Figure size 500x500 with 1 Axes>"
      ]
     },
     "metadata": {},
     "output_type": "display_data"
    }
   ],
   "source": [
    "import seaborn as sns\n",
    "import numpy as np\n",
    "\n",
    "# Generate random normal data\n",
    "data = np.random.normal(size=1000)\n",
    "\n",
    "# Create a distribution plot with KDE and without histogram\n",
    "sns.displot(data)\n"
   ]
  },
  {
   "cell_type": "code",
   "execution_count": 165,
   "metadata": {},
   "outputs": [
    {
     "data": {
      "text/plain": [
       "<Axes: ylabel='Count'>"
      ]
     },
     "execution_count": 165,
     "metadata": {},
     "output_type": "execute_result"
    },
    {
     "data": {
      "image/png": "[encoded data removed]",
      "text/plain": [
       "<Figure size 640x480 with 1 Axes>"
      ]
     },
     "metadata": {},
     "output_type": "display_data"
    }
   ],
   "source": [
    "%matplotlib inline\n",
    "\n",
    "data = np.random.normal(size=1000)\n",
    "\n",
    "# Create a histogram with KDE\n",
    "sns.histplot(data, kde=True)"
   ]
  },
  {
   "cell_type": "code",
   "execution_count": 167,
   "metadata": {},
   "outputs": [
    {
     "name": "stdout",
     "output_type": "stream",
     "text": [
      "[7 8 4 5 5 4 4 5 7 7]\n"
     ]
    }
   ],
   "source": [
    "x=random.binomial(12,0.5,10)\n",
    "\n",
    "print(x)"
   ]
  },
  {
   "cell_type": "code",
   "execution_count": 172,
   "metadata": {},
   "outputs": [
    {
     "data": {
      "text/plain": [
       "<seaborn.axisgrid.FacetGrid at 0x126768260>"
      ]
     },
     "execution_count": 172,
     "metadata": {},
     "output_type": "execute_result"
    },
    {
     "data": {
      "image/png": "[encoded data removed]",
      "text/plain": [
       "<Figure size 500x500 with 1 Axes>"
      ]
     },
     "metadata": {},
     "output_type": "display_data"
    }
   ],
   "source": [
    "sns.displot(random.binomial(100,0.5,10000))"
   ]
  },
  {
   "cell_type": "code",
   "execution_count": 176,
   "metadata": {},
   "outputs": [
    {
     "name": "stdout",
     "output_type": "stream",
     "text": [
      "<ufunc 'myfunc (vectorized)'>\n",
      "9\n"
     ]
    }
   ],
   "source": [
    "def myfunc(x,y):\n",
    "    return x**y\n",
    "\n",
    "myfunc=np.frompyfunc(myfunc,2,1)\n",
    "print(myfunc)\n",
    "\n",
    "print(myfunc(3,2))"
   ]
  },
  {
   "cell_type": "code",
   "execution_count": 178,
   "metadata": {},
   "outputs": [
    {
     "name": "stdout",
     "output_type": "stream",
     "text": [
      "['A', 'B', 'C']\n",
      "[4, 2, 3]\n",
      "[('A', 4), ('B', 2), ('C', 3)]\n",
      "('A', 'B', 'C')\n",
      "(4, 2, 3)\n"
     ]
    }
   ],
   "source": [
    "Q=['A','B','C']\n",
    "A=[4,2,3]\n",
    "\n",
    "Q_and_A=list(zip(Q,A))\n",
    "\n",
    "print(Q)\n",
    "print(A)\n",
    "print(Q_and_A)\n",
    "\n",
    "Questions, Answers = zip(*Q_and_A)\n",
    "\n",
    "print(Questions)\n",
    "print(Answers)"
   ]
  },
  {
   "cell_type": "code",
   "execution_count": null,
   "metadata": {},
   "outputs": [],
   "source": []
  }
 ],
 "metadata": {
  "kernelspec": {
   "display_name": "Python 3",
   "language": "python",
   "name": "python3"
  },
  "language_info": {
   "codemirror_mode": {
    "name": "ipython",
    "version": 3
   },
   "file_extension": ".py",
   "mimetype": "text/x-python",
   "name": "python",
   "nbconvert_exporter": "python",
   "pygments_lexer": "ipython3",
   "version": "3.12.5"
  }
 },
 "nbformat": 4,
 "nbformat_minor": 2
}
